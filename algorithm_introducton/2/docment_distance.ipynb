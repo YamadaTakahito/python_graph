{
 "cells": [
  {
   "cell_type": "code",
   "execution_count": 8,
   "metadata": {},
   "outputs": [],
   "source": [
    "import math"
   ]
  },
  {
   "cell_type": "code",
   "execution_count": 60,
   "metadata": {},
   "outputs": [
    {
     "ename": "SyntaxError",
     "evalue": "invalid syntax (<ipython-input-60-b563103c8e3d>, line 40)",
     "output_type": "error",
     "traceback": [
      "\u001b[0;36m  File \u001b[0;32m\"<ipython-input-60-b563103c8e3d>\"\u001b[0;36m, line \u001b[0;32m40\u001b[0m\n\u001b[0;31m    print(\"the words are {}% same.\".format(percent))\u001b[0m\n\u001b[0m        ^\u001b[0m\n\u001b[0;31mSyntaxError\u001b[0m\u001b[0;31m:\u001b[0m invalid syntax\n"
     ]
    }
   ],
   "source": [
    "def make_dict(string):\n",
    "    dic = {}\n",
    "    for s in string.split(\" \"):\n",
    "        if dic.get(s) is not None:\n",
    "            dic[s] += 1\n",
    "        else:\n",
    "            dic[s] = 1\n",
    "            \n",
    "    return dic\n",
    "\n",
    "def calc_length(dic):\n",
    "    s = 0\n",
    "    for v in dic.values():\n",
    "        s += v**2\n",
    "    \n",
    "    return math.sqrt(s)\n",
    "\n",
    "def calc_inner_product(d1, d2):\n",
    "    keys = set(d1.keys()) & set(d2.keys())\n",
    "    \n",
    "    product = 0\n",
    "    for k in keys:\n",
    "        product = d1[k] * d2[k]\n",
    "        \n",
    "    return product\n",
    "\n",
    "def calc_doc_distance(s1, s2):\n",
    "    d1 = make_dict(s1)\n",
    "    d2 = make_dict(s2)\n",
    "    \n",
    "    l1 = calc_length(d1)\n",
    "    l2 = calc_length(d2)\n",
    "    \n",
    "    p = calc_inner_product(d1, d2)\n",
    "    \n",
    "    cos = p / (l1 * l2)\n",
    "    angle = math.acos(cos)\n",
    "    # pi is farthest, 0 is nearest\n",
    "    percent = int((((math.pi/2) - angle) / (math.pi/2)*100)\n",
    "    print(\"the words are {}% same.\".format(percent))\n",
    "    return angle"
   ]
  },
  {
   "cell_type": "code",
   "execution_count": 61,
   "metadata": {},
   "outputs": [
    {
     "name": "stdout",
     "output_type": "stream",
     "text": [
      "1\n",
      "the words are 66% same.\n"
     ]
    },
    {
     "data": {
      "text/plain": [
       "1.0471975511965979"
      ]
     },
     "execution_count": 61,
     "metadata": {},
     "output_type": "execute_result"
    }
   ],
   "source": [
    "calc_doc_distance(\"the doc\", \"the cat\")"
   ]
  },
  {
   "cell_type": "code",
   "execution_count": 58,
   "metadata": {},
   "outputs": [
    {
     "name": "stdout",
     "output_type": "stream",
     "text": [
      "0\n",
      "the words are 50% same.\n"
     ]
    },
    {
     "data": {
      "text/plain": [
       "1.5707963267948966"
      ]
     },
     "execution_count": 58,
     "metadata": {},
     "output_type": "execute_result"
    }
   ],
   "source": [
    "calc_doc_distance(\"the doc\", \"a cat\")"
   ]
  },
  {
   "cell_type": "code",
   "execution_count": 59,
   "metadata": {},
   "outputs": [
    {
     "data": {
      "text/plain": [
       "1.5707963267948966"
      ]
     },
     "execution_count": 59,
     "metadata": {},
     "output_type": "execute_result"
    }
   ],
   "source": [
    "math.acos(0)"
   ]
  },
  {
   "cell_type": "code",
   "execution_count": null,
   "metadata": {},
   "outputs": [],
   "source": []
  }
 ],
 "metadata": {
  "kernelspec": {
   "display_name": "Python 3",
   "language": "python",
   "name": "python3"
  },
  "language_info": {
   "codemirror_mode": {
    "name": "ipython",
    "version": 3
   },
   "file_extension": ".py",
   "mimetype": "text/x-python",
   "name": "python",
   "nbconvert_exporter": "python",
   "pygments_lexer": "ipython3",
   "version": "3.6.3"
  }
 },
 "nbformat": 4,
 "nbformat_minor": 2
}
