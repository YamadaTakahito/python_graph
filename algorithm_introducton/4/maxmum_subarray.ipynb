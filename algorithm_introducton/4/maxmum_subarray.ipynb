{
 "cells": [
  {
   "cell_type": "code",
   "execution_count": 1,
   "metadata": {},
   "outputs": [],
   "source": [
    "import copy\n",
    "import time\n",
    "import random\n",
    "\n",
    "import numpy as np\n",
    "import pandas as pd\n",
    "import matplotlib.pyplot as plt\n",
    "from scipy.interpolate import interp1d"
   ]
  },
  {
   "cell_type": "code",
   "execution_count": 2,
   "metadata": {},
   "outputs": [],
   "source": [
    "def gen_array(size = 100):\n",
    "    A = []\n",
    "    for _ in range(size):\n",
    "        A.append(random.randint(0, size))\n",
    "    return A"
   ]
  },
  {
   "cell_type": "code",
   "execution_count": 17,
   "metadata": {},
   "outputs": [],
   "source": [
    "def find_max_crossing_subarray(A, low, mid, high):\n",
    "    left_sum = float(\"-inf\")\n",
    "    summarize = 0\n",
    "    \n",
    "    print(low)\n",
    "    print(mid)\n",
    "    print(high)\n",
    "    for i in range(mid, low-1, -1):\n",
    "        summarize += A[i]\n",
    "        \n",
    "        if summarize > left_sum:\n",
    "            left_sum = summarize\n",
    "            max_left = i\n",
    "            \n",
    "    right_sum = float(\"-inf\")\n",
    "    summarize = 0\n",
    "    \n",
    "    for j in range(mid+1, high+1, 1):\n",
    "        summarize += A[j]\n",
    "        \n",
    "        if summarize > right_sum:\n",
    "            left_sum = summarize\n",
    "            max_right = j\n",
    "            \n",
    "    return max_left, max_right, left_sum+right_sum\n",
    "\n",
    "def find_max_subarray(A, low, high):\n",
    "    if high == low: # only one element\n",
    "        return low, high, A[low]\n",
    "    else:\n",
    "        mid = (low + high) // 2\n",
    "        \n",
    "        left_low, left_high, left_sum = find_max_subarray(A, low, mid)\n",
    "        right_low, right_high, right_sum = find_max_subarray(A, mid+1, high)\n",
    "        cross_low, cross_high, cross_sum = find_max_crossing_subarray(A, low, mid, high)\n",
    "        \n",
    "        if left_sum >= right_sum and left_sum >= cross_sum:\n",
    "            return left_low, left_high, left_sum\n",
    "        elif right_sum >= left_sum and right_sum >= cross_sum:\n",
    "            return right_low, right_high, right_sum\n",
    "        else:\n",
    "            return cross_low, cross_high, cross_sum"
   ]
  },
  {
   "cell_type": "code",
   "execution_count": 18,
   "metadata": {},
   "outputs": [
    {
     "name": "stdout",
     "output_type": "stream",
     "text": [
      "[7, 1, 3, 1, 0, 2, 10, 6, 6, 9]\n",
      "0\n",
      "0\n",
      "1\n",
      "0\n",
      "1\n",
      "2\n",
      "3\n",
      "3\n",
      "4\n",
      "3\n",
      "4\n",
      "5\n",
      "0\n",
      "2\n",
      "5\n",
      "6\n",
      "6\n",
      "7\n",
      "6\n",
      "7\n",
      "8\n"
     ]
    },
    {
     "ename": "IndexError",
     "evalue": "list index out of range",
     "output_type": "error",
     "traceback": [
      "\u001b[0;31m---------------------------------------------------------------------------\u001b[0m",
      "\u001b[0;31mIndexError\u001b[0m                                Traceback (most recent call last)",
      "\u001b[0;32m<ipython-input-18-21672c657e1a>\u001b[0m in \u001b[0;36m<module>\u001b[0;34m()\u001b[0m\n\u001b[1;32m      1\u001b[0m \u001b[0ma\u001b[0m \u001b[0;34m=\u001b[0m \u001b[0mgen_array\u001b[0m\u001b[0;34m(\u001b[0m\u001b[0msize\u001b[0m\u001b[0;34m=\u001b[0m\u001b[0;36m10\u001b[0m\u001b[0;34m)\u001b[0m\u001b[0;34m\u001b[0m\u001b[0m\n\u001b[1;32m      2\u001b[0m \u001b[0mprint\u001b[0m\u001b[0;34m(\u001b[0m\u001b[0ma\u001b[0m\u001b[0;34m)\u001b[0m\u001b[0;34m\u001b[0m\u001b[0m\n\u001b[0;32m----> 3\u001b[0;31m \u001b[0mfind_max_subarray\u001b[0m\u001b[0;34m(\u001b[0m\u001b[0ma\u001b[0m\u001b[0;34m,\u001b[0m \u001b[0;36m0\u001b[0m\u001b[0;34m,\u001b[0m \u001b[0mlen\u001b[0m\u001b[0;34m(\u001b[0m\u001b[0ma\u001b[0m\u001b[0;34m)\u001b[0m\u001b[0;34m)\u001b[0m\u001b[0;34m\u001b[0m\u001b[0m\n\u001b[0m",
      "\u001b[0;32m<ipython-input-17-ceb430da91ed>\u001b[0m in \u001b[0;36mfind_max_subarray\u001b[0;34m(A, low, high)\u001b[0m\n\u001b[1;32m     32\u001b[0m \u001b[0;34m\u001b[0m\u001b[0m\n\u001b[1;32m     33\u001b[0m         \u001b[0mleft_low\u001b[0m\u001b[0;34m,\u001b[0m \u001b[0mleft_high\u001b[0m\u001b[0;34m,\u001b[0m \u001b[0mleft_sum\u001b[0m \u001b[0;34m=\u001b[0m \u001b[0mfind_max_subarray\u001b[0m\u001b[0;34m(\u001b[0m\u001b[0mA\u001b[0m\u001b[0;34m,\u001b[0m \u001b[0mlow\u001b[0m\u001b[0;34m,\u001b[0m \u001b[0mmid\u001b[0m\u001b[0;34m)\u001b[0m\u001b[0;34m\u001b[0m\u001b[0m\n\u001b[0;32m---> 34\u001b[0;31m         \u001b[0mright_low\u001b[0m\u001b[0;34m,\u001b[0m \u001b[0mright_high\u001b[0m\u001b[0;34m,\u001b[0m \u001b[0mright_sum\u001b[0m \u001b[0;34m=\u001b[0m \u001b[0mfind_max_subarray\u001b[0m\u001b[0;34m(\u001b[0m\u001b[0mA\u001b[0m\u001b[0;34m,\u001b[0m \u001b[0mmid\u001b[0m\u001b[0;34m+\u001b[0m\u001b[0;36m1\u001b[0m\u001b[0;34m,\u001b[0m \u001b[0mhigh\u001b[0m\u001b[0;34m)\u001b[0m\u001b[0;34m\u001b[0m\u001b[0m\n\u001b[0m\u001b[1;32m     35\u001b[0m         \u001b[0mcross_low\u001b[0m\u001b[0;34m,\u001b[0m \u001b[0mcross_high\u001b[0m\u001b[0;34m,\u001b[0m \u001b[0mcross_sum\u001b[0m \u001b[0;34m=\u001b[0m \u001b[0mfind_max_crossing_subarray\u001b[0m\u001b[0;34m(\u001b[0m\u001b[0mA\u001b[0m\u001b[0;34m,\u001b[0m \u001b[0mlow\u001b[0m\u001b[0;34m,\u001b[0m \u001b[0mmid\u001b[0m\u001b[0;34m,\u001b[0m \u001b[0mhigh\u001b[0m\u001b[0;34m)\u001b[0m\u001b[0;34m\u001b[0m\u001b[0m\n\u001b[1;32m     36\u001b[0m \u001b[0;34m\u001b[0m\u001b[0m\n",
      "\u001b[0;32m<ipython-input-17-ceb430da91ed>\u001b[0m in \u001b[0;36mfind_max_subarray\u001b[0;34m(A, low, high)\u001b[0m\n\u001b[1;32m     32\u001b[0m \u001b[0;34m\u001b[0m\u001b[0m\n\u001b[1;32m     33\u001b[0m         \u001b[0mleft_low\u001b[0m\u001b[0;34m,\u001b[0m \u001b[0mleft_high\u001b[0m\u001b[0;34m,\u001b[0m \u001b[0mleft_sum\u001b[0m \u001b[0;34m=\u001b[0m \u001b[0mfind_max_subarray\u001b[0m\u001b[0;34m(\u001b[0m\u001b[0mA\u001b[0m\u001b[0;34m,\u001b[0m \u001b[0mlow\u001b[0m\u001b[0;34m,\u001b[0m \u001b[0mmid\u001b[0m\u001b[0;34m)\u001b[0m\u001b[0;34m\u001b[0m\u001b[0m\n\u001b[0;32m---> 34\u001b[0;31m         \u001b[0mright_low\u001b[0m\u001b[0;34m,\u001b[0m \u001b[0mright_high\u001b[0m\u001b[0;34m,\u001b[0m \u001b[0mright_sum\u001b[0m \u001b[0;34m=\u001b[0m \u001b[0mfind_max_subarray\u001b[0m\u001b[0;34m(\u001b[0m\u001b[0mA\u001b[0m\u001b[0;34m,\u001b[0m \u001b[0mmid\u001b[0m\u001b[0;34m+\u001b[0m\u001b[0;36m1\u001b[0m\u001b[0;34m,\u001b[0m \u001b[0mhigh\u001b[0m\u001b[0;34m)\u001b[0m\u001b[0;34m\u001b[0m\u001b[0m\n\u001b[0m\u001b[1;32m     35\u001b[0m         \u001b[0mcross_low\u001b[0m\u001b[0;34m,\u001b[0m \u001b[0mcross_high\u001b[0m\u001b[0;34m,\u001b[0m \u001b[0mcross_sum\u001b[0m \u001b[0;34m=\u001b[0m \u001b[0mfind_max_crossing_subarray\u001b[0m\u001b[0;34m(\u001b[0m\u001b[0mA\u001b[0m\u001b[0;34m,\u001b[0m \u001b[0mlow\u001b[0m\u001b[0;34m,\u001b[0m \u001b[0mmid\u001b[0m\u001b[0;34m,\u001b[0m \u001b[0mhigh\u001b[0m\u001b[0;34m)\u001b[0m\u001b[0;34m\u001b[0m\u001b[0m\n\u001b[1;32m     36\u001b[0m \u001b[0;34m\u001b[0m\u001b[0m\n",
      "\u001b[0;32m<ipython-input-17-ceb430da91ed>\u001b[0m in \u001b[0;36mfind_max_subarray\u001b[0;34m(A, low, high)\u001b[0m\n\u001b[1;32m     32\u001b[0m \u001b[0;34m\u001b[0m\u001b[0m\n\u001b[1;32m     33\u001b[0m         \u001b[0mleft_low\u001b[0m\u001b[0;34m,\u001b[0m \u001b[0mleft_high\u001b[0m\u001b[0;34m,\u001b[0m \u001b[0mleft_sum\u001b[0m \u001b[0;34m=\u001b[0m \u001b[0mfind_max_subarray\u001b[0m\u001b[0;34m(\u001b[0m\u001b[0mA\u001b[0m\u001b[0;34m,\u001b[0m \u001b[0mlow\u001b[0m\u001b[0;34m,\u001b[0m \u001b[0mmid\u001b[0m\u001b[0;34m)\u001b[0m\u001b[0;34m\u001b[0m\u001b[0m\n\u001b[0;32m---> 34\u001b[0;31m         \u001b[0mright_low\u001b[0m\u001b[0;34m,\u001b[0m \u001b[0mright_high\u001b[0m\u001b[0;34m,\u001b[0m \u001b[0mright_sum\u001b[0m \u001b[0;34m=\u001b[0m \u001b[0mfind_max_subarray\u001b[0m\u001b[0;34m(\u001b[0m\u001b[0mA\u001b[0m\u001b[0;34m,\u001b[0m \u001b[0mmid\u001b[0m\u001b[0;34m+\u001b[0m\u001b[0;36m1\u001b[0m\u001b[0;34m,\u001b[0m \u001b[0mhigh\u001b[0m\u001b[0;34m)\u001b[0m\u001b[0;34m\u001b[0m\u001b[0m\n\u001b[0m\u001b[1;32m     35\u001b[0m         \u001b[0mcross_low\u001b[0m\u001b[0;34m,\u001b[0m \u001b[0mcross_high\u001b[0m\u001b[0;34m,\u001b[0m \u001b[0mcross_sum\u001b[0m \u001b[0;34m=\u001b[0m \u001b[0mfind_max_crossing_subarray\u001b[0m\u001b[0;34m(\u001b[0m\u001b[0mA\u001b[0m\u001b[0;34m,\u001b[0m \u001b[0mlow\u001b[0m\u001b[0;34m,\u001b[0m \u001b[0mmid\u001b[0m\u001b[0;34m,\u001b[0m \u001b[0mhigh\u001b[0m\u001b[0;34m)\u001b[0m\u001b[0;34m\u001b[0m\u001b[0m\n\u001b[1;32m     36\u001b[0m \u001b[0;34m\u001b[0m\u001b[0m\n",
      "\u001b[0;32m<ipython-input-17-ceb430da91ed>\u001b[0m in \u001b[0;36mfind_max_subarray\u001b[0;34m(A, low, high)\u001b[0m\n\u001b[1;32m     27\u001b[0m \u001b[0;32mdef\u001b[0m \u001b[0mfind_max_subarray\u001b[0m\u001b[0;34m(\u001b[0m\u001b[0mA\u001b[0m\u001b[0;34m,\u001b[0m \u001b[0mlow\u001b[0m\u001b[0;34m,\u001b[0m \u001b[0mhigh\u001b[0m\u001b[0;34m)\u001b[0m\u001b[0;34m:\u001b[0m\u001b[0;34m\u001b[0m\u001b[0m\n\u001b[1;32m     28\u001b[0m     \u001b[0;32mif\u001b[0m \u001b[0mhigh\u001b[0m \u001b[0;34m==\u001b[0m \u001b[0mlow\u001b[0m\u001b[0;34m:\u001b[0m \u001b[0;31m# only one element\u001b[0m\u001b[0;34m\u001b[0m\u001b[0m\n\u001b[0;32m---> 29\u001b[0;31m         \u001b[0;32mreturn\u001b[0m \u001b[0mlow\u001b[0m\u001b[0;34m,\u001b[0m \u001b[0mhigh\u001b[0m\u001b[0;34m,\u001b[0m \u001b[0mA\u001b[0m\u001b[0;34m[\u001b[0m\u001b[0mlow\u001b[0m\u001b[0;34m]\u001b[0m\u001b[0;34m\u001b[0m\u001b[0m\n\u001b[0m\u001b[1;32m     30\u001b[0m     \u001b[0;32melse\u001b[0m\u001b[0;34m:\u001b[0m\u001b[0;34m\u001b[0m\u001b[0m\n\u001b[1;32m     31\u001b[0m         \u001b[0mmid\u001b[0m \u001b[0;34m=\u001b[0m \u001b[0;34m(\u001b[0m\u001b[0mlow\u001b[0m \u001b[0;34m+\u001b[0m \u001b[0mhigh\u001b[0m\u001b[0;34m)\u001b[0m \u001b[0;34m//\u001b[0m \u001b[0;36m2\u001b[0m\u001b[0;34m\u001b[0m\u001b[0m\n",
      "\u001b[0;31mIndexError\u001b[0m: list index out of range"
     ]
    }
   ],
   "source": [
    "a = gen_array(size=10)\n",
    "print(a)\n",
    "find_max_subarray(a, 0, len(a))"
   ]
  },
  {
   "cell_type": "code",
   "execution_count": null,
   "metadata": {},
   "outputs": [],
   "source": [
    "count = 4\n",
    "sizes = np.logspace(start=1, stop=count, num=count, base=10)\n",
    "insertion_times = []\n",
    "merge_times = []\n",
    "\n",
    "for s in sizes:\n",
    "    arr = gen_array(int(s))\n",
    "    start = time.time()\n",
    "    insertion_sort(copy.copy(arr))\n",
    "    end = time.time()\n",
    "    insertion_times.append(end - start)\n",
    "    \n",
    "    start = time.time()\n",
    "    merge_sort(copy.copy(arr), 0, len(arr) -1)\n",
    "    end = time.time()\n",
    "    merge_times.append(end - start)\n",
    "    \n",
    "\n",
    "df = pd.DataFrame({\n",
    "    'insertion_sort' : insertion_times,\n",
    "    'merge_sort' : merge_times\n",
    "}\n",
    ")\n",
    "df"
   ]
  },
  {
   "cell_type": "code",
   "execution_count": null,
   "metadata": {},
   "outputs": [],
   "source": [
    "# Spline https://docs.scipy.org/doc/scipy/reference/generated/scipy.interpolate.interp1d.html\n",
    "sp_insert = interp1d(sizes, insertion_times)\n",
    "sp_merge = interp1d(sizes, merge_times)\n",
    "sp_x = np.linspace(sizes[0], sizes[-1], num=100)\n",
    "\n",
    "insertion_label,  = plt.plot(sizes, insertion_times, 'ro', label='insertion_sort')\n",
    "merge_label,  = plt.plot(sizes, merge_times, 'bo', label='merge_times')\n",
    "plt.plot(sp_x, sp_insert(sp_x), 'r-',\n",
    "         sp_x, sp_merge(sp_x), 'b-')\n",
    "\n",
    "plt.legend(handles=[insertion_label, merge_label])\n",
    "plt.xscale('log')\n",
    "plt.xlabel('array length')\n",
    "plt.ylabel('computational time[sec]')\n",
    "plt.show()"
   ]
  },
  {
   "cell_type": "code",
   "execution_count": null,
   "metadata": {
    "scrolled": true
   },
   "outputs": [],
   "source": [
    "count = 100\n",
    "sizes = np.linspace(100, 10 * count, num= count)\n",
    "insertion_times = []\n",
    "merge_times = []\n",
    "\n",
    "for s in sizes:\n",
    "    arr = gen_array(int(s))\n",
    "    start = time.time()\n",
    "    insertion_sort(copy.copy(arr))\n",
    "    end = time.time()\n",
    "    insertion_times.append(end - start)\n",
    "    \n",
    "    start = time.time()\n",
    "    merge_sort(copy.copy(arr), 0, len(arr) -1)\n",
    "    end = time.time()\n",
    "    merge_times.append(end - start)\n",
    "    \n",
    "\n",
    "df = pd.DataFrame({\n",
    "    'insertion_sort' : insertion_times,\n",
    "    'merge_sort' : merge_times\n",
    "}\n",
    ")\n",
    "df"
   ]
  },
  {
   "cell_type": "code",
   "execution_count": null,
   "metadata": {},
   "outputs": [],
   "source": [
    "df.plot(kind='line')\n",
    "\n",
    "plt.xlabel('array length')\n",
    "plt.ylabel('computational time[sec]')\n",
    "plt.legend(loc='best')\n",
    "plt.show()"
   ]
  },
  {
   "cell_type": "code",
   "execution_count": 14,
   "metadata": {},
   "outputs": [
    {
     "data": {
      "text/plain": [
       "[0]"
      ]
     },
     "execution_count": 14,
     "metadata": {},
     "output_type": "execute_result"
    }
   ],
   "source": [
    "list(range(0, -1, -1))"
   ]
  },
  {
   "cell_type": "code",
   "execution_count": null,
   "metadata": {},
   "outputs": [],
   "source": []
  }
 ],
 "metadata": {
  "kernelspec": {
   "display_name": "Python 3",
   "language": "python",
   "name": "python3"
  },
  "language_info": {
   "codemirror_mode": {
    "name": "ipython",
    "version": 3
   },
   "file_extension": ".py",
   "mimetype": "text/x-python",
   "name": "python",
   "nbconvert_exporter": "python",
   "pygments_lexer": "ipython3",
   "version": "3.6.3"
  }
 },
 "nbformat": 4,
 "nbformat_minor": 2
}
