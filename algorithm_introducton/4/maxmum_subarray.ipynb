{
 "cells": [
  {
   "cell_type": "code",
   "execution_count": 38,
   "metadata": {},
   "outputs": [],
   "source": [
    "import copy\n",
    "import time\n",
    "import random\n",
    "\n",
    "import numpy as np\n",
    "import pandas as pd\n",
    "import matplotlib.pyplot as plt\n",
    "from scipy.interpolate import interp1d"
   ]
  },
  {
   "cell_type": "code",
   "execution_count": 39,
   "metadata": {},
   "outputs": [],
   "source": [
    "def gen_array(size = 100):\n",
    "    A = []\n",
    "    for _ in range(size):\n",
    "        A.append(random.randint(0, size))\n",
    "    return A"
   ]
  },
  {
   "cell_type": "code",
   "execution_count": 40,
   "metadata": {},
   "outputs": [],
   "source": [
    "def brute_force(A):\n",
    "    left = 0\n",
    "    right = 0\n",
    "    max_sum = 0\n",
    "    \n",
    "    for i in range(len(A)):\n",
    "        s = A[i]\n",
    "        for j in range(i + 1, len(A), 1):\n",
    "            s += A[j]  \n",
    "            if max_sum < s:\n",
    "                left = i\n",
    "                right = j\n",
    "                max_sum = s\n",
    "                \n",
    "    return left, right, max_sum\n",
    "            \n",
    "        \n",
    "        "
   ]
  },
  {
   "cell_type": "code",
   "execution_count": 41,
   "metadata": {},
   "outputs": [],
   "source": [
    "def find_max_crossing_subarray(A, low, mid, high):\n",
    "    left_sum = float(\"-inf\")\n",
    "    summarize = 0\n",
    "\n",
    "    for i in range(mid, low - 1, -1): # down to\n",
    "        summarize += A[i]\n",
    "\n",
    "        if summarize > left_sum:\n",
    "            left_sum = summarize\n",
    "            max_left = i\n",
    "\n",
    "    right_sum = float(\"-inf\")\n",
    "    summarize = 0\n",
    "\n",
    "    for j in range(mid + 1, high + 1, 1):\n",
    "        summarize += A[j]\n",
    "\n",
    "        if summarize > right_sum:\n",
    "            right_sum = summarize\n",
    "            max_right = j\n",
    "\n",
    "    return max_left, max_right, left_sum + right_sum\n",
    "\n",
    "\n",
    "def find_max_subarray(A, low, high):\n",
    "    if high == low:  # only one element\n",
    "        return low, high, A[low]\n",
    "    else:\n",
    "        mid = (low + high) // 2\n",
    "\n",
    "        left_low, left_high, left_sum = find_max_subarray(A, low, mid)\n",
    "        right_low, right_high, right_sum = find_max_subarray(A, mid + 1, high)\n",
    "        cross_low, cross_high, cross_sum = find_max_crossing_subarray(A, low, mid, high)\n",
    "\n",
    "        if left_sum >= right_sum and left_sum >= cross_sum:\n",
    "            return left_low, left_high, left_sum\n",
    "        elif right_sum >= left_sum and right_sum >= cross_sum:\n",
    "            return right_low, right_high, right_sum\n",
    "        else:\n",
    "            return cross_low, cross_high, cross_sum"
   ]
  },
  {
   "cell_type": "code",
   "execution_count": 42,
   "metadata": {},
   "outputs": [
    {
     "name": "stdout",
     "output_type": "stream",
     "text": [
      "(7, 10, 43)\n"
     ]
    },
    {
     "data": {
      "text/plain": [
       "(7, 10, 43)"
      ]
     },
     "execution_count": 42,
     "metadata": {},
     "output_type": "execute_result"
    }
   ],
   "source": [
    "a = [13, -3, -25, 20, -3, -16, -23, 18, 20, -7, 12, -5, -22, 15, -4, 7]\n",
    "print(find_max_subarray(a, 0, len(a)-1))\n",
    "brute_force(a)"
   ]
  },
  {
   "cell_type": "code",
   "execution_count": 45,
   "metadata": {
    "scrolled": true
   },
   "outputs": [
    {
     "data": {
      "text/html": [
       "<div>\n",
       "<style scoped>\n",
       "    .dataframe tbody tr th:only-of-type {\n",
       "        vertical-align: middle;\n",
       "    }\n",
       "\n",
       "    .dataframe tbody tr th {\n",
       "        vertical-align: top;\n",
       "    }\n",
       "\n",
       "    .dataframe thead th {\n",
       "        text-align: right;\n",
       "    }\n",
       "</style>\n",
       "<table border=\"1\" class=\"dataframe\">\n",
       "  <thead>\n",
       "    <tr style=\"text-align: right;\">\n",
       "      <th></th>\n",
       "      <th>brute_force[sec]</th>\n",
       "      <th>devide_and_conquer[sec]</th>\n",
       "    </tr>\n",
       "  </thead>\n",
       "  <tbody>\n",
       "    <tr>\n",
       "      <th>0</th>\n",
       "      <td>0.000017</td>\n",
       "      <td>0.000038</td>\n",
       "    </tr>\n",
       "    <tr>\n",
       "      <th>1</th>\n",
       "      <td>0.000726</td>\n",
       "      <td>0.000378</td>\n",
       "    </tr>\n",
       "    <tr>\n",
       "      <th>2</th>\n",
       "      <td>0.079661</td>\n",
       "      <td>0.005784</td>\n",
       "    </tr>\n",
       "    <tr>\n",
       "      <th>3</th>\n",
       "      <td>4.318913</td>\n",
       "      <td>0.037074</td>\n",
       "    </tr>\n",
       "  </tbody>\n",
       "</table>\n",
       "</div>"
      ],
      "text/plain": [
       "   brute_force[sec]  devide_and_conquer[sec]\n",
       "0          0.000017                 0.000038\n",
       "1          0.000726                 0.000378\n",
       "2          0.079661                 0.005784\n",
       "3          4.318913                 0.037074"
      ]
     },
     "execution_count": 45,
     "metadata": {},
     "output_type": "execute_result"
    }
   ],
   "source": [
    "count = 4\n",
    "sizes = np.logspace(start=1, stop=count, num=count, base=10)\n",
    "brute_times = []\n",
    "devide_times = []\n",
    "\n",
    "for s in sizes:\n",
    "    arr = gen_array(int(s))\n",
    "    start = time.time()\n",
    "    brute_force(arr)\n",
    "    end = time.time()\n",
    "    brute_times.append(end - start)\n",
    "    \n",
    "    start = time.time()\n",
    "    find_max_subarray(arr, 0, len(arr)-1)\n",
    "    end = time.time()\n",
    "    devide_times.append(end - start)\n",
    "    \n",
    "\n",
    "df = pd.DataFrame({\n",
    "    'brute_force[sec]' : brute_times,\n",
    "    'devide_and_conquer[sec]' : devide_times\n",
    "}\n",
    ")\n",
    "df"
   ]
  },
  {
   "cell_type": "code",
   "execution_count": 46,
   "metadata": {},
   "outputs": [
    {
     "data": {
      "image/png": "[encoded data removed]",
      "text/plain": [
       "<matplotlib.figure.Figure at 0x1120e1ba8>"
      ]
     },
     "metadata": {},
     "output_type": "display_data"
    }
   ],
   "source": [
    "df.plot(kind='line')\n",
    "\n",
    "plt.xlabel('array length')\n",
    "plt.ylabel('computational time[sec]')\n",
    "plt.legend(loc='best')\n",
    "plt.show()"
   ]
  },
  {
   "cell_type": "code",
   "execution_count": null,
   "metadata": {},
   "outputs": [],
   "source": []
  }
 ],
 "metadata": {
  "kernelspec": {
   "display_name": "Python 3",
   "language": "python",
   "name": "python3"
  },
  "language_info": {
   "codemirror_mode": {
    "name": "ipython",
    "version": 3
   },
   "file_extension": ".py",
   "mimetype": "text/x-python",
   "name": "python",
   "nbconvert_exporter": "python",
   "pygments_lexer": "ipython3",
   "version": "3.6.3"
  }
 },
 "nbformat": 4,
 "nbformat_minor": 2
}
